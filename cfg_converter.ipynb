{
 "cells": [
  {
   "cell_type": "code",
   "execution_count": 38,
   "metadata": {},
   "outputs": [],
   "source": [
    "import nltk\n",
    "from nltk import CFG\n",
    "from nltk.parse import ChartParser\n",
    "from nltk import Tree"
   ]
  },
  {
   "cell_type": "markdown",
   "metadata": {},
   "source": [
    "# This code tries to model the following relation:\n",
    "\n",
    "### E1+E2+E3+E4+E5 -> E5+E3+E1"
   ]
  },
  {
   "cell_type": "markdown",
   "metadata": {},
   "source": [
    "# 1) Build CFG to parse passive sentences"
   ]
  },
  {
   "cell_type": "code",
   "execution_count": 39,
   "metadata": {},
   "outputs": [],
   "source": [
    "grammar = nltk.CFG.fromstring(\"\"\"\n",
    "    S -> NP VP\n",
    "    PP -> P NP\n",
    "    NP -> Det N\n",
    "    VP -> V PP              \n",
    "    V -> Aux VV\n",
    "    Aux -> 'was'\n",
    "    VV -> 'kept'\n",
    "    Det -> 'The' | 'the'\n",
    "    N -> 'landlord' | 'deposit'\n",
    "    P -> 'by'\n",
    "    \"\"\")\n",
    "\n",
    "parser = ChartParser(grammar)\n",
    "\n",
    "sent = \"The deposit was kept by the landlord\".split()\n",
    "\n",
    "for tree in parser.parse(sent):\n",
    "    tree = tree"
   ]
  },
  {
   "cell_type": "code",
   "execution_count": 40,
   "metadata": {},
   "outputs": [
    {
     "data": {
      "image/svg+xml": [
       "<svg baseProfile=\"full\" height=\"264px\" preserveAspectRatio=\"xMidYMid meet\" style=\"font-family: times, serif; font-weight: normal; font-style: normal; font-size: 16px;\" version=\"1.1\" viewBox=\"0,0,352.0,264.0\" width=\"352px\" xmlns=\"http://www.w3.org/2000/svg\" xmlns:ev=\"http://www.w3.org/2001/xml-events\" xmlns:xlink=\"http://www.w3.org/1999/xlink\"><defs /><svg width=\"100%\" x=\"0\" y=\"0px\"><defs /><text text-anchor=\"middle\" x=\"50%\" y=\"16px\">S</text></svg><svg width=\"31.8182%\" x=\"0%\" y=\"48px\"><defs /><svg width=\"100%\" x=\"0\" y=\"0px\"><defs /><text text-anchor=\"middle\" x=\"50%\" y=\"16px\">NP</text></svg><svg width=\"35.7143%\" x=\"0%\" y=\"48px\"><defs /><svg width=\"100%\" x=\"0\" y=\"0px\"><defs /><text text-anchor=\"middle\" x=\"50%\" y=\"16px\">Det</text></svg><svg width=\"100%\" x=\"0%\" y=\"48px\"><defs /><svg width=\"100%\" x=\"0\" y=\"0px\"><defs /><text text-anchor=\"middle\" x=\"50%\" y=\"16px\">The</text></svg></svg><line stroke=\"black\" x1=\"50%\" x2=\"50%\" y1=\"19.2px\" y2=\"48px\" /></svg><line stroke=\"black\" x1=\"50%\" x2=\"17.8571%\" y1=\"19.2px\" y2=\"48px\" /><svg width=\"64.2857%\" x=\"35.7143%\" y=\"48px\"><defs /><svg width=\"100%\" x=\"0\" y=\"0px\"><defs /><text text-anchor=\"middle\" x=\"50%\" y=\"16px\">N</text></svg><svg width=\"100%\" x=\"0%\" y=\"48px\"><defs /><svg width=\"100%\" x=\"0\" y=\"0px\"><defs /><text text-anchor=\"middle\" x=\"50%\" y=\"16px\">deposit</text></svg></svg><line stroke=\"black\" x1=\"50%\" x2=\"50%\" y1=\"19.2px\" y2=\"48px\" /></svg><line stroke=\"black\" x1=\"50%\" x2=\"67.8571%\" y1=\"19.2px\" y2=\"48px\" /></svg><line stroke=\"black\" x1=\"50%\" x2=\"15.9091%\" y1=\"19.2px\" y2=\"48px\" /><svg width=\"68.1818%\" x=\"31.8182%\" y=\"48px\"><defs /><svg width=\"100%\" x=\"0\" y=\"0px\"><defs /><text text-anchor=\"middle\" x=\"50%\" y=\"16px\">VP</text></svg><svg width=\"36.6667%\" x=\"0%\" y=\"48px\"><defs /><svg width=\"100%\" x=\"0\" y=\"0px\"><defs /><text text-anchor=\"middle\" x=\"50%\" y=\"16px\">V</text></svg><svg width=\"45.4545%\" x=\"0%\" y=\"48px\"><defs /><svg width=\"100%\" x=\"0\" y=\"0px\"><defs /><text text-anchor=\"middle\" x=\"50%\" y=\"16px\">Aux</text></svg><svg width=\"100%\" x=\"0%\" y=\"48px\"><defs /><svg width=\"100%\" x=\"0\" y=\"0px\"><defs /><text text-anchor=\"middle\" x=\"50%\" y=\"16px\">was</text></svg></svg><line stroke=\"black\" x1=\"50%\" x2=\"50%\" y1=\"19.2px\" y2=\"48px\" /></svg><line stroke=\"black\" x1=\"50%\" x2=\"22.7273%\" y1=\"19.2px\" y2=\"48px\" /><svg width=\"54.5455%\" x=\"45.4545%\" y=\"48px\"><defs /><svg width=\"100%\" x=\"0\" y=\"0px\"><defs /><text text-anchor=\"middle\" x=\"50%\" y=\"16px\">VV</text></svg><svg width=\"100%\" x=\"0%\" y=\"48px\"><defs /><svg width=\"100%\" x=\"0\" y=\"0px\"><defs /><text text-anchor=\"middle\" x=\"50%\" y=\"16px\">kept</text></svg></svg><line stroke=\"black\" x1=\"50%\" x2=\"50%\" y1=\"19.2px\" y2=\"48px\" /></svg><line stroke=\"black\" x1=\"50%\" x2=\"72.7273%\" y1=\"19.2px\" y2=\"48px\" /></svg><line stroke=\"black\" x1=\"50%\" x2=\"18.3333%\" y1=\"19.2px\" y2=\"48px\" /><svg width=\"63.3333%\" x=\"36.6667%\" y=\"48px\"><defs /><svg width=\"100%\" x=\"0\" y=\"0px\"><defs /><text text-anchor=\"middle\" x=\"50%\" y=\"16px\">PP</text></svg><svg width=\"21.0526%\" x=\"0%\" y=\"48px\"><defs /><svg width=\"100%\" x=\"0\" y=\"0px\"><defs /><text text-anchor=\"middle\" x=\"50%\" y=\"16px\">P</text></svg><svg width=\"100%\" x=\"0%\" y=\"48px\"><defs /><svg width=\"100%\" x=\"0\" y=\"0px\"><defs /><text text-anchor=\"middle\" x=\"50%\" y=\"16px\">by</text></svg></svg><line stroke=\"black\" x1=\"50%\" x2=\"50%\" y1=\"19.2px\" y2=\"48px\" /></svg><line stroke=\"black\" x1=\"50%\" x2=\"10.5263%\" y1=\"19.2px\" y2=\"48px\" /><svg width=\"78.9474%\" x=\"21.0526%\" y=\"48px\"><defs /><svg width=\"100%\" x=\"0\" y=\"0px\"><defs /><text text-anchor=\"middle\" x=\"50%\" y=\"16px\">NP</text></svg><svg width=\"33.3333%\" x=\"0%\" y=\"48px\"><defs /><svg width=\"100%\" x=\"0\" y=\"0px\"><defs /><text text-anchor=\"middle\" x=\"50%\" y=\"16px\">Det</text></svg><svg width=\"100%\" x=\"0%\" y=\"48px\"><defs /><svg width=\"100%\" x=\"0\" y=\"0px\"><defs /><text text-anchor=\"middle\" x=\"50%\" y=\"16px\">the</text></svg></svg><line stroke=\"black\" x1=\"50%\" x2=\"50%\" y1=\"19.2px\" y2=\"48px\" /></svg><line stroke=\"black\" x1=\"50%\" x2=\"16.6667%\" y1=\"19.2px\" y2=\"48px\" /><svg width=\"66.6667%\" x=\"33.3333%\" y=\"48px\"><defs /><svg width=\"100%\" x=\"0\" y=\"0px\"><defs /><text text-anchor=\"middle\" x=\"50%\" y=\"16px\">N</text></svg><svg width=\"100%\" x=\"0%\" y=\"48px\"><defs /><svg width=\"100%\" x=\"0\" y=\"0px\"><defs /><text text-anchor=\"middle\" x=\"50%\" y=\"16px\">landlord</text></svg></svg><line stroke=\"black\" x1=\"50%\" x2=\"50%\" y1=\"19.2px\" y2=\"48px\" /></svg><line stroke=\"black\" x1=\"50%\" x2=\"66.6667%\" y1=\"19.2px\" y2=\"48px\" /></svg><line stroke=\"black\" x1=\"50%\" x2=\"60.5263%\" y1=\"19.2px\" y2=\"48px\" /></svg><line stroke=\"black\" x1=\"50%\" x2=\"68.3333%\" y1=\"19.2px\" y2=\"48px\" /></svg><line stroke=\"black\" x1=\"50%\" x2=\"65.9091%\" y1=\"19.2px\" y2=\"48px\" /></svg>"
      ],
      "text/plain": [
       "Tree('S', [Tree('NP', [Tree('Det', ['The']), Tree('N', ['deposit'])]), Tree('VP', [Tree('V', [Tree('Aux', ['was']), Tree('VV', ['kept'])]), Tree('PP', [Tree('P', ['by']), Tree('NP', [Tree('Det', ['the']), Tree('N', ['landlord'])])])])])"
      ]
     },
     "execution_count": 40,
     "metadata": {},
     "output_type": "execute_result"
    }
   ],
   "source": [
    "tree"
   ]
  },
  {
   "cell_type": "markdown",
   "metadata": {},
   "source": [
    "# 2) Apply a series of extractions:\n",
    "\n",
    "This will help us get the subtrees in the plot as follows:\n",
    "\n",
    "1. NP -> The deposit\n",
    "2. V -> was kept\n",
    "3. VV -> kept\n",
    "4. PP -> by the landlord\n",
    "5. NP -> the landlord"
   ]
  },
  {
   "cell_type": "code",
   "execution_count": 41,
   "metadata": {},
   "outputs": [
    {
     "name": "stdout",
     "output_type": "stream",
     "text": [
      "(NP (Det The) (N deposit))\n",
      "\n",
      "(VP (V (Aux was) (VV kept)) (PP (P by) (NP (Det the) (N landlord))))\n",
      "\n"
     ]
    }
   ],
   "source": [
    "def extract_subtrees(tree, labels):\n",
    "    extracted = []\n",
    "    for subtree in tree:\n",
    "        if type(subtree) is Tree and subtree.label() in labels:\n",
    "            extracted.append(subtree)\n",
    "    return extracted\n",
    "\n",
    "# Labels to extract\n",
    "labels_to_extract = ['NP', 'VP']\n",
    "\n",
    "# Extract subtrees\n",
    "extracted_subtrees = extract_subtrees(tree, labels_to_extract)\n",
    "\n",
    "for subtree in extracted_subtrees:\n",
    "    print(subtree)\n",
    "    print()\n",
    "\n"
   ]
  },
  {
   "cell_type": "code",
   "execution_count": 42,
   "metadata": {},
   "outputs": [
    {
     "name": "stdout",
     "output_type": "stream",
     "text": [
      "(V (Aux was) (VV kept))\n",
      "\n",
      "(PP (P by) (NP (Det the) (N landlord)))\n",
      "\n"
     ]
    }
   ],
   "source": [
    "# Extract subtrees\n",
    "y = Tree.fromstring(\"\"\"(VP (V (Aux was) (VV kept)) (PP (P by) (NP (Det the) (N landlord))))\"\"\")\n",
    "xxx = ['PP', 'V']\n",
    "extracted_subtrees = extract_subtrees(y, xxx)\n",
    "# Labels to extract\n",
    "\n",
    "# Print extracted subtrees\n",
    "for subtree in extracted_subtrees:\n",
    "    print(subtree)\n",
    "    print()"
   ]
  },
  {
   "cell_type": "code",
   "execution_count": 43,
   "metadata": {},
   "outputs": [
    {
     "data": {
      "text/plain": [
       "{'Subtree 0:': Tree('S', [Tree('NP', [Tree('Det', ['The']), Tree('N', ['deposit'])]), Tree('VP', [Tree('V', [Tree('Aux', ['was']), Tree('VV', ['kept'])]), Tree('PP', [Tree('P', ['by']), Tree('NP', [Tree('Det', ['the']), Tree('N', ['landlord'])])])])]),\n",
       " 'Subtree 1:': Tree('NP', [Tree('Det', ['The']), Tree('N', ['deposit'])]),\n",
       " 'Subtree 2:': Tree('Det', ['The']),\n",
       " 'Subtree 3:': Tree('N', ['deposit']),\n",
       " 'Subtree 4:': Tree('VP', [Tree('V', [Tree('Aux', ['was']), Tree('VV', ['kept'])]), Tree('PP', [Tree('P', ['by']), Tree('NP', [Tree('Det', ['the']), Tree('N', ['landlord'])])])]),\n",
       " 'Subtree 5:': Tree('V', [Tree('Aux', ['was']), Tree('VV', ['kept'])]),\n",
       " 'Subtree 6:': Tree('Aux', ['was']),\n",
       " 'Subtree 7:': Tree('VV', ['kept']),\n",
       " 'Subtree 8:': Tree('PP', [Tree('P', ['by']), Tree('NP', [Tree('Det', ['the']), Tree('N', ['landlord'])])]),\n",
       " 'Subtree 9:': Tree('P', ['by']),\n",
       " 'Subtree 10:': Tree('NP', [Tree('Det', ['the']), Tree('N', ['landlord'])]),\n",
       " 'Subtree 11:': Tree('Det', ['the']),\n",
       " 'Subtree 12:': Tree('N', ['landlord'])}"
      ]
     },
     "execution_count": 43,
     "metadata": {},
     "output_type": "execute_result"
    }
   ],
   "source": [
    "# Create the parse tree\n",
    "parse_tree = Tree.fromstring(\"\"\"\n",
    "(S\n",
    "  (NP (Det The) (N deposit))\n",
    "  (VP\n",
    "    (V (Aux was) (VV kept))\n",
    "    (PP (P by) (NP (Det the) (N landlord)))))\n",
    "\"\"\")\n",
    "\n",
    "# Function to extract all subtrees\n",
    "def extract_subtrees(tree):\n",
    "    subtrees = []\n",
    "    for subtree in tree.subtrees():\n",
    "        subtrees.append(subtree)\n",
    "    return subtrees\n",
    "\n",
    "# Extract all subtrees\n",
    "all_subtrees = extract_subtrees(parse_tree)\n",
    "\n",
    "# Print all subtrees\n",
    "z = {}\n",
    "for i, subtree in enumerate(all_subtrees):\n",
    "    z[f\"Subtree {i}:\"] = subtree\n",
    "    # print(f\"Subtree {i}:\")\n",
    "    # print(subtree)\n",
    "    # #print()\n",
    "\n",
    "z\n"
   ]
  },
  {
   "cell_type": "code",
   "execution_count": 44,
   "metadata": {},
   "outputs": [
    {
     "data": {
      "text/plain": [
       "[Tree('NP', [Tree('Det', ['The']), Tree('N', ['deposit'])]),\n",
       " Tree('V', [Tree('Aux', ['was']), Tree('VV', ['kept'])]),\n",
       " Tree('VV', ['kept']),\n",
       " Tree('PP', [Tree('P', ['by']), Tree('NP', [Tree('Det', ['the']), Tree('N', ['landlord'])])]),\n",
       " Tree('NP', [Tree('Det', ['the']), Tree('N', ['landlord'])])]"
      ]
     },
     "execution_count": 44,
     "metadata": {},
     "output_type": "execute_result"
    }
   ],
   "source": [
    "# Labels to look for\n",
    "labels = ['NP', 'VV', 'V', 'PP']\n",
    "\n",
    "# Extracting only the subtrees with the specified labels\n",
    "filtered_subtrees = {key: val for key, val in z.items() if val.label() in labels}\n",
    "\n",
    "# for key, subtree in filtered_subtrees.items():\n",
    "#     print(f\"{key}:\")\n",
    "#     print(subtree)\n",
    "#     print()\n",
    "\n",
    "q = []\n",
    "for k, v in z.items():\n",
    "    if v.label() in labels:\n",
    "        q.append(v)\n",
    "\n",
    "q\n"
   ]
  },
  {
   "cell_type": "markdown",
   "metadata": {},
   "source": [
    "# 3) Assign IDs "
   ]
  },
  {
   "cell_type": "code",
   "execution_count": 45,
   "metadata": {},
   "outputs": [
    {
     "data": {
      "text/plain": [
       "[{'ID1': Tree('NP', [Tree('Det', ['The']), Tree('N', ['deposit'])])},\n",
       " {'ID2': Tree('V', [Tree('Aux', ['was']), Tree('VV', ['kept'])])},\n",
       " {'ID3': Tree('VV', ['kept'])},\n",
       " {'ID4': Tree('PP', [Tree('P', ['by']), Tree('NP', [Tree('Det', ['the']), Tree('N', ['landlord'])])])},\n",
       " {'ID5': Tree('NP', [Tree('Det', ['the']), Tree('N', ['landlord'])])}]"
      ]
     },
     "execution_count": 45,
     "metadata": {},
     "output_type": "execute_result"
    }
   ],
   "source": [
    "def assign_ids(filtered_subtrees):\n",
    "    id = 1\n",
    "    res = []\n",
    "    for k, v in filtered_subtrees.items():\n",
    "        new = {}\n",
    "        new[f\"ID{id}\"] = v\n",
    "        res.append(new)\n",
    "        id += 1\n",
    "    return res\n",
    "\n",
    "res = assign_ids(filtered_subtrees)\n",
    "res"
   ]
  },
  {
   "cell_type": "markdown",
   "metadata": {},
   "source": [
    "# 4) Rearrange\n",
    "\n",
    "- This models the following -> The landlord kept the deposit."
   ]
  },
  {
   "cell_type": "code",
   "execution_count": 22,
   "metadata": {},
   "outputs": [
    {
     "data": {
      "text/plain": [
       "[{'ID5': 'Tree(\"NP\", [Tree(\"Det\", [\"the\"]), Tree(\"N\", [\"landlord\"])])'},\n",
       " {'ID3': 'Tree(\"VV\", [\"kept\"])'},\n",
       " {'ID1': 'Tree(\"NP\", [Tree(\"Det\", [\"The\"]), Tree(\"N\", [\"deposit\"])])'}]"
      ]
     },
     "execution_count": 22,
     "metadata": {},
     "output_type": "execute_result"
    }
   ],
   "source": [
    "def rearrange_dict_list(dict_list, order):\n",
    "   \n",
    "    id_to_dict = {list(d.keys())[0]: d for d in dict_list}\n",
    "    rearranged_list = [id_to_dict[id_key] for id_key in order if id_key in id_to_dict]\n",
    "    return rearranged_list\n",
    "\n",
    "\n",
    "# The desired order\n",
    "desired_order = ['ID5', 'ID3', 'ID1']\n",
    "\n",
    "# Rearranging the dictionary\n",
    "rearranged_dict_list = rearrange_dict_list(res, desired_order)\n",
    "rearranged_dict_list\n"
   ]
  },
  {
   "cell_type": "code",
   "execution_count": 50,
   "metadata": {},
   "outputs": [
    {
     "data": {
      "text/plain": [
       "'the landlord kept the deposit'"
      ]
     },
     "execution_count": 50,
     "metadata": {},
     "output_type": "execute_result"
    }
   ],
   "source": [
    "def output(dict_list):\n",
    "   \n",
    "    trees = []\n",
    "    for item in dict_list:\n",
    "        tree_str = list(item.values())[0]\n",
    "        tree = eval(tree_str)\n",
    "        trees.append(tree)\n",
    "    return trees\n",
    "\n",
    "active = output(rearranged_dict_list)\n",
    "active = [i.leaves() for i in active]\n",
    "active = [item for sublist in active for item in sublist]\n",
    "active = \" \".join(active).lower()\n",
    "active\n"
   ]
  },
  {
   "cell_type": "code",
   "execution_count": null,
   "metadata": {},
   "outputs": [],
   "source": []
  }
 ],
 "metadata": {
  "kernelspec": {
   "display_name": "cfg",
   "language": "python",
   "name": "python3"
  },
  "language_info": {
   "codemirror_mode": {
    "name": "ipython",
    "version": 3
   },
   "file_extension": ".py",
   "mimetype": "text/x-python",
   "name": "python",
   "nbconvert_exporter": "python",
   "pygments_lexer": "ipython3",
   "version": "3.8.18"
  }
 },
 "nbformat": 4,
 "nbformat_minor": 2
}
